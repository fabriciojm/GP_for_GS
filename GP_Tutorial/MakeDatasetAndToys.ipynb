{
 "cells": [
  {
   "cell_type": "code",
   "execution_count": 1,
   "metadata": {},
   "outputs": [
    {
     "name": "stdout",
     "output_type": "stream",
     "text": [
      "Populating the interactive namespace from numpy and matplotlib\n",
      "Welcome to JupyROOT 6.12/04\n"
     ]
    }
   ],
   "source": [
    "%pylab inline --no-import-all\n",
    "import matplotlib.ticker as ticker\n",
    "import matplotlib.pyplot as pl\n",
    "\n",
    "import math\n",
    "import numpy as np\n",
    "\n",
    "import sys\n",
    "sys.path.append(\"/usr/local/Cellar/root/6.12.04_1/lib/root/\")\n",
    "sys.path.append(\"/Library/Python/2.7/site-packages/\")\n",
    "\n",
    "import ROOT as r"
   ]
  },
  {
   "cell_type": "code",
   "execution_count": 7,
   "metadata": {},
   "outputs": [],
   "source": [
    "from matplotlib.ticker import LogLocator, FormatStrFormatter\n",
    "\n",
    "def basicPlot(xs, ys, title, col='g'):\n",
    "    fig = pl.figure(figsize=(8, 8))\n",
    "    ax = fig.add_subplot(111)\n",
    "    ax.set_xscale(\"log\", nonposx='clip')\n",
    "    ax.set_yscale(\"log\", nonposy='clip')\n",
    "    plt.errorbar(xs, ys, marker='o', ls='None', yerr = np.sqrt(ys), c='black', markersize=10)\n",
    "    pl.title(title)\n",
    "    pl.xlim( 1e3, 8.5e3 )\n",
    "    pl.ylim( 1,   1e6 )\n",
    "    pl.xlabel('m_inv'+ '  [GeV]', fontsize=16)\n",
    "    pl.ylabel('events', fontsize=16)"
   ]
  },
  {
   "cell_type": "code",
   "execution_count": 3,
   "metadata": {},
   "outputs": [],
   "source": [
    "startingCut = 1100"
   ]
  },
  {
   "cell_type": "code",
   "execution_count": 4,
   "metadata": {},
   "outputs": [],
   "source": [
    "input_file = r.TFile('/Users/jimenez/GS_data/GS_histograms_merged/physics_Main.root', 'OPEN')\n",
    "input_hist = input_file.Get('NONE/h_2j_Minv')\n",
    "ycounts = []\n",
    "yerrs = []\n",
    "xbins = []\n",
    "xerrs = []\n",
    "binedges = []\n",
    "xbins_fullRange = []\n",
    "xerrs_fullRange = []\n",
    "\n",
    "for ib in range(1,input_hist.GetNbinsX()+1):\n",
    "    xbins_fullRange.append(input_hist.GetBinCenter(ib))\n",
    "    xerrs_fullRange.append(input_hist.GetBinLowEdge(ib+1)-input_hist.GetBinLowEdge(ib))\n",
    "    \n",
    "    if input_hist.GetBinCenter(ib)>startingCut:  \n",
    "        ycounts.append(input_hist.GetBinContent(ib))\n",
    "        yerrs.append(input_hist.GetBinError(ib))\n",
    "        xbins.append(input_hist.GetBinCenter(ib))\n",
    "        xerrs.append(input_hist.GetBinLowEdge(ib+1)-input_hist.GetBinLowEdge(ib))\n",
    "        binedges.append(input_hist.GetBinLowEdge(ib))\n",
    "input_file.Close()\n",
    "\n",
    "ycounts = np.array(ycounts)\n",
    "xbins = np.array(xbins)\n",
    "xerrs = np.array(xerrs)\n",
    "binedges = np.array(binedges)\n",
    "xbins_fullRange = np.array(xbins_fullRange)\n",
    "xerrs_fullRange = np.array(xerrs_fullRange)\n",
    "\n",
    "np.save(\"inputs/ycounts.npy\", ycounts)\n",
    "np.save(\"inputs/yerrs.npy\", yerrs)\n",
    "np.save(\"inputs/xbins.npy\", xbins)\n",
    "np.save(\"inputs/xerrs.npy\", xerrs)\n",
    "np.save(\"inputs/binedges.npy\", binedges)\n",
    "np.save(\"inputs/xbins_fullRange.npy\", xbins_fullRange)\n",
    "np.save(\"inputs/xerrs_fullRange.npy\", xerrs_fullRange)"
   ]
  },
  {
   "cell_type": "code",
   "execution_count": 5,
   "metadata": {},
   "outputs": [],
   "source": [
    "binCenters = xbins_fullRange + np.append(np.diff(xbins_fullRange), np.diff(xbins_fullRange)[-1])/2\n",
    "\n",
    "start_bin = np.argmax(binCenters > startingCut)\n",
    "\n",
    "ycounts_fullRange = ycounts\n",
    "ycounts_fullRange = np.concatenate((ycounts_fullRange[:start_bin], ycounts))\n",
    "\n",
    "np.save(\"inputs/ycounts_fullRange.npy\", ycounts_fullRange)\n",
    "np.save(\"inputs/yerrs_fullRange.npy\", np.sqrt(ycounts_fullRange))"
   ]
  },
  {
   "cell_type": "code",
   "execution_count": 8,
   "metadata": {},
   "outputs": [
    {
     "data": {
      "image/png": "[encoded data removed]",
      "text/plain": [
       "<matplotlib.figure.Figure at 0x11fc19150>"
      ]
     },
     "metadata": {},
     "output_type": "display_data"
    }
   ],
   "source": [
    "basicPlot(binCenters, ycounts_fullRange, 'Dijet invariant mass')"
   ]
  },
  {
   "cell_type": "code",
   "execution_count": null,
   "metadata": {},
   "outputs": [],
   "source": []
  }
 ],
 "metadata": {
  "kernelspec": {
   "display_name": "Python 2",
   "language": "python",
   "name": "python2"
  },
  "language_info": {
   "codemirror_mode": {
    "name": "ipython",
    "version": 2
   },
   "file_extension": ".py",
   "mimetype": "text/x-python",
   "name": "python",
   "nbconvert_exporter": "python",
   "pygments_lexer": "ipython2",
   "version": "2.7.14"
  }
 },
 "nbformat": 4,
 "nbformat_minor": 2
}
